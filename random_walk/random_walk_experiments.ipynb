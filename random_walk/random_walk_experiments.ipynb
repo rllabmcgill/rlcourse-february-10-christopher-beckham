{
 "cells": [
  {
   "cell_type": "code",
   "execution_count": 1,
   "metadata": {
    "collapsed": true
   },
   "outputs": [],
   "source": [
    "import numpy as np"
   ]
  },
  {
   "cell_type": "code",
   "execution_count": 124,
   "metadata": {
    "collapsed": true
   },
   "outputs": [],
   "source": [
    "states = ['LT', 'A', 'B', 'C', 'D', 'E', 'RT']\n",
    "terminal_states = ['LT', 'RT']\n",
    "idx_to_state = {i:states[i] for i in range(len(states))}\n",
    "state_to_idx = {states[i]:i for i in range(len(states))}"
   ]
  },
  {
   "cell_type": "code",
   "execution_count": 41,
   "metadata": {
    "collapsed": false
   },
   "outputs": [
    {
     "data": {
      "text/plain": [
       "['LT', 'A', 'B', 'C', 'D', 'E', 'RT']"
      ]
     },
     "execution_count": 41,
     "metadata": {},
     "output_type": "execute_result"
    }
   ],
   "source": [
    "states"
   ]
  },
  {
   "cell_type": "code",
   "execution_count": 165,
   "metadata": {
    "collapsed": false
   },
   "outputs": [],
   "source": [
    "def generate_episode(add_terminal=False):\n",
    "    curr_state = 3\n",
    "    history = []\n",
    "    while True:\n",
    "        rnd = np.random.randint(0,2)\n",
    "        prev_state = curr_state\n",
    "        if rnd == 0:\n",
    "            # go right\n",
    "            curr_state += 1\n",
    "            # if we hit a terminal, then stop, otherwise\n",
    "            # track the reward\n",
    "            if curr_state == state_to_idx[\"RT\"]:\n",
    "                #print \"hit RT\"\n",
    "                history.append( (idx_to_state[prev_state], \"right\", 1) )\n",
    "                if add_terminal:\n",
    "                    history.append( (idx_to_state[curr_state], \"n/a\", 0) )\n",
    "                break\n",
    "            else:\n",
    "                history.append( (idx_to_state[prev_state], \"right\", 0) )\n",
    "        elif rnd == 1:\n",
    "            # go left\n",
    "            curr_state -= 1\n",
    "            # if we hit a terminal, then stop, otherwise\n",
    "            # track the reward\n",
    "            if curr_state == state_to_idx[\"LT\"]:\n",
    "                #print \"hit LT\"\n",
    "                history.append( (idx_to_state[prev_state], \"left\", 0) )\n",
    "                if add_terminal:\n",
    "                    history.append( (idx_to_state[curr_state], \"n/a\", 0) )\n",
    "                break\n",
    "            else:\n",
    "                history.append( (idx_to_state[prev_state], \"left\", 0) )\n",
    "    return history"
   ]
  },
  {
   "cell_type": "code",
   "execution_count": 167,
   "metadata": {
    "collapsed": false
   },
   "outputs": [
    {
     "data": {
      "text/plain": [
       "[('C', 'right', 0),\n",
       " ('D', 'right', 0),\n",
       " ('E', 'left', 0),\n",
       " ('D', 'right', 0),\n",
       " ('E', 'right', 1),\n",
       " ('RT', 'n/a', 0)]"
      ]
     },
     "execution_count": 167,
     "metadata": {},
     "output_type": "execute_result"
    }
   ],
   "source": [
    "history = generate_episode(add_terminal=True)\n",
    "history"
   ]
  },
  {
   "cell_type": "code",
   "execution_count": 49,
   "metadata": {
    "collapsed": false
   },
   "outputs": [
    {
     "data": {
      "text/plain": [
       "[0, 0, 0, 0, 0]"
      ]
     },
     "execution_count": 49,
     "metadata": {},
     "output_type": "execute_result"
    }
   ],
   "source": [
    "[ history[i][2] for i in range(len(history)) ]"
   ]
  },
  {
   "cell_type": "code",
   "execution_count": 80,
   "metadata": {
    "collapsed": true
   },
   "outputs": [],
   "source": [
    "def history_from_state(history, state):\n",
    "    \"\"\"\n",
    "    return the history from when state 's' was\n",
    "    first seen\n",
    "    :history:\n",
    "    :state: the string describing the state\n",
    "    \"\"\"\n",
    "    from_idx = -1\n",
    "    for i in range(len(history)):\n",
    "        if history[i][0] == state:\n",
    "            from_idx = i\n",
    "            break\n",
    "    if from_idx == -1:\n",
    "        return []\n",
    "    else:\n",
    "        return history[from_idx::]"
   ]
  },
  {
   "cell_type": "markdown",
   "metadata": {},
   "source": [
    "Let's do first-visit MC policy evaluation"
   ]
  },
  {
   "cell_type": "code",
   "execution_count": 95,
   "metadata": {
    "collapsed": false
   },
   "outputs": [
    {
     "name": "stdout",
     "output_type": "stream",
     "text": [
      "A : 0.167109634551\n",
      "B : 0.33377624236\n",
      "C : 0.4986\n",
      "D : 0.660922587487\n",
      "E : 0.82563338301\n"
     ]
    }
   ],
   "source": [
    "# repeat forever\n",
    "returns = {state:[] for state in states}\n",
    "num_iters = 10000\n",
    "for num_iter in range(num_iters):\n",
    "    # generate an episode using policy\n",
    "    history = generate_episode()\n",
    "    # for each state appearing in the episode:\n",
    "    for state in states:\n",
    "        history_from_this_state = history_from_state(history, state)\n",
    "        if history_from_this_state == []:\n",
    "            continue\n",
    "        else:\n",
    "            # G = return following first occurence of s\n",
    "            G = sum([ history_from_this_state[i][2] for i in range(len(history_from_this_state)) ])\n",
    "            # append G to returns\n",
    "            returns[state].append(G)\n",
    "# average returns\n",
    "for state in states:\n",
    "    if returns[state] != []:\n",
    "        print state, \":\", np.mean(returns[state])"
   ]
  },
  {
   "cell_type": "markdown",
   "metadata": {},
   "source": [
    "This is consistent with the values in the book: A = 1/6, B = 2/6, ..., E = 5/6"
   ]
  },
  {
   "cell_type": "markdown",
   "metadata": {},
   "source": [
    "----"
   ]
  },
  {
   "cell_type": "markdown",
   "metadata": {},
   "source": [
    "Let's implement TD(0)"
   ]
  },
  {
   "cell_type": "code",
   "execution_count": 111,
   "metadata": {
    "collapsed": false
   },
   "outputs": [
    {
     "data": {
      "text/plain": [
       "{'A': 0.0, 'B': 0.0, 'C': 0.0, 'D': 0.0, 'E': 0.0, 'LT': 0.0, 'RT': 0.0}"
      ]
     },
     "execution_count": 111,
     "metadata": {},
     "output_type": "execute_result"
    }
   ],
   "source": [
    "V = {state:0.0 for state in states}\n",
    "V"
   ]
  },
  {
   "cell_type": "code",
   "execution_count": 310,
   "metadata": {
    "collapsed": false
   },
   "outputs": [],
   "source": [
    "V = {state:0.0 for state in states}\n",
    "num_iters = 50000\n",
    "gamma = 1\n",
    "N = {state:0.0 for state in states}\n",
    "# repeat (for each episode)\n",
    "for i in range(num_iters):\n",
    "    history = generate_episode(add_terminal=True)\n",
    "    # initialise S\n",
    "    S = history[0][0]\n",
    "    # repeat (for each step of episode)\n",
    "    for t in range(0, len(history)-1):\n",
    "        N[S] += 1\n",
    "        # A = action given by pi for S\n",
    "        A = history[t][1]\n",
    "        # take action A, observe R, S'\n",
    "        R = history[t][2]\n",
    "        S_prime = history[t+1][0]\n",
    "        #alpha = 1.0 / N[S]\n",
    "        alpha = 0.001\n",
    "        V[S] += alpha * ( R + (gamma*V[S_prime]) - V[S] )\n",
    "        S = S_prime\n",
    "        if S in terminal_states:\n",
    "            break"
   ]
  },
  {
   "cell_type": "code",
   "execution_count": 311,
   "metadata": {
    "collapsed": false
   },
   "outputs": [
    {
     "data": {
      "text/plain": [
       "{'A': 0.16329355441220494,\n",
       " 'B': 0.3273412189514655,\n",
       " 'C': 0.4897669743175231,\n",
       " 'D': 0.6577518024201993,\n",
       " 'E': 0.823333377291298,\n",
       " 'LT': 0.0,\n",
       " 'RT': 0.0}"
      ]
     },
     "execution_count": 311,
     "metadata": {},
     "output_type": "execute_result"
    }
   ],
   "source": [
    "V"
   ]
  },
  {
   "cell_type": "code",
   "execution_count": null,
   "metadata": {
    "collapsed": true
   },
   "outputs": [],
   "source": []
  },
  {
   "cell_type": "markdown",
   "metadata": {},
   "source": [
    "-----"
   ]
  },
  {
   "cell_type": "markdown",
   "metadata": {},
   "source": [
    "TD(0) for batch updating. The advantage: if we have a finite # of episodes, just keep iterating over these episodes rather than having to generate new ones"
   ]
  },
  {
   "cell_type": "code",
   "execution_count": 302,
   "metadata": {
    "collapsed": false
   },
   "outputs": [],
   "source": [
    "V = {state:0.0 for state in states}\n",
    "num_iters = 100\n",
    "gamma = 1\n",
    "histories = [ generate_episode(add_terminal=True) for i in range(num_iters) ]\n",
    "for num_epochs in range(1000):\n",
    "    # repeat (for each episode)\n",
    "    deltas = {state:0.0 for state in states}\n",
    "    for i in range(0, num_iters):\n",
    "        history = histories[i]\n",
    "        # initialise S\n",
    "        S = history[0][0]\n",
    "        # repeat (for each step of episode)\n",
    "        for t in range(0, len(history)-1):\n",
    "            # A = action given by pi for S\n",
    "            A = history[t][1]\n",
    "            # take action A, observe R, S'\n",
    "            R = history[t][2]\n",
    "            S_prime = history[t+1][0]\n",
    "            #alpha = 1.0 / N[S]\n",
    "            alpha = 0.001\n",
    "            deltas[S] += alpha*( R + (gamma*V[S_prime]) - V[S] )\n",
    "            S = S_prime\n",
    "            if S in terminal_states:\n",
    "                break\n",
    "    for state in states:\n",
    "        V[state] += deltas[state]"
   ]
  },
  {
   "cell_type": "code",
   "execution_count": 312,
   "metadata": {
    "collapsed": false
   },
   "outputs": [
    {
     "data": {
      "text/plain": [
       "{'A': 0.16329355441220494,\n",
       " 'B': 0.3273412189514655,\n",
       " 'C': 0.4897669743175231,\n",
       " 'D': 0.6577518024201993,\n",
       " 'E': 0.823333377291298,\n",
       " 'LT': 0.0,\n",
       " 'RT': 0.0}"
      ]
     },
     "execution_count": 312,
     "metadata": {},
     "output_type": "execute_result"
    }
   ],
   "source": [
    "V"
   ]
  },
  {
   "cell_type": "code",
   "execution_count": 313,
   "metadata": {
    "collapsed": false
   },
   "outputs": [
    {
     "data": {
      "text/plain": [
       "0.8333333333333334"
      ]
     },
     "execution_count": 313,
     "metadata": {},
     "output_type": "execute_result"
    }
   ],
   "source": [
    "5.0/6"
   ]
  },
  {
   "cell_type": "code",
   "execution_count": null,
   "metadata": {
    "collapsed": true
   },
   "outputs": [],
   "source": []
  }
 ],
 "metadata": {
  "kernelspec": {
   "display_name": "Python 2",
   "language": "python",
   "name": "python2"
  },
  "language_info": {
   "codemirror_mode": {
    "name": "ipython",
    "version": 2
   },
   "file_extension": ".py",
   "mimetype": "text/x-python",
   "name": "python",
   "nbconvert_exporter": "python",
   "pygments_lexer": "ipython2",
   "version": "2.7.13"
  }
 },
 "nbformat": 4,
 "nbformat_minor": 2
}
