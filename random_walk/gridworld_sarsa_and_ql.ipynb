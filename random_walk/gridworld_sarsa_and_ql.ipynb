{
 "cells": [
  {
   "cell_type": "code",
   "execution_count": 56,
   "metadata": {
    "collapsed": true
   },
   "outputs": [],
   "source": [
    "import matplotlib.pyplot as plt\n",
    "%matplotlib inline"
   ]
  },
  {
   "cell_type": "code",
   "execution_count": 2,
   "metadata": {
    "collapsed": false
   },
   "outputs": [
    {
     "name": "stderr",
     "output_type": "stream",
     "text": [
      "[2017-02-11 13:52:36,206] You have 'numpy' version 1.10.1 installed, but 'gym' requires at least 1.10.4. HINT: upgrade via 'pip install -U numpy'.\n"
     ]
    }
   ],
   "source": [
    "import numpy as np\n",
    "from windy_gridworld import WindyGridworldEnv"
   ]
  },
  {
   "cell_type": "code",
   "execution_count": 9,
   "metadata": {
    "collapsed": true
   },
   "outputs": [],
   "source": [
    "UP = 0\n",
    "RIGHT = 1\n",
    "DOWN = 2\n",
    "LEFT = 3"
   ]
  },
  {
   "cell_type": "code",
   "execution_count": 14,
   "metadata": {
    "collapsed": false
   },
   "outputs": [
    {
     "name": "stdout",
     "output_type": "stream",
     "text": [
      "30\n",
      "o  o  o  o  o  o  o  o  o  o\n",
      "o  o  o  o  o  o  o  o  o  o\n",
      "o  o  o  o  o  o  o  o  o  o\n",
      "x  o  o  o  o  o  o  T  o  o\n",
      "o  o  o  o  o  o  o  o  o  o\n",
      "o  o  o  o  o  o  o  o  o  o\n",
      "o  o  o  o  o  o  o  o  o  o\n",
      "\n",
      "o  o  o  o  o  o  o  o  o  o\n",
      "o  o  o  o  o  o  o  o  o  o\n",
      "o  o  o  o  o  o  o  o  o  o\n",
      "o  o  x  o  o  o  o  T  o  o\n",
      "o  o  o  o  o  o  o  o  o  o\n",
      "o  o  o  o  o  o  o  o  o  o\n",
      "o  o  o  o  o  o  o  o  o  o\n",
      "\n",
      "o  o  o  o  o  o  o  o  o  o\n",
      "o  o  o  o  o  o  o  o  o  o\n",
      "o  o  o  o  o  o  o  o  o  o\n",
      "o  o  o  x  o  o  o  T  o  o\n",
      "o  o  o  o  o  o  o  o  o  o\n",
      "o  o  o  o  o  o  o  o  o  o\n",
      "o  o  o  o  o  o  o  o  o  o\n",
      "\n",
      "o  o  o  o  o  o  o  o  o  o\n",
      "o  o  o  o  o  o  o  o  o  o\n",
      "o  o  o  o  x  o  o  o  o  o\n",
      "o  o  o  o  o  o  o  T  o  o\n",
      "o  o  o  o  o  o  o  o  o  o\n",
      "o  o  o  o  o  o  o  o  o  o\n",
      "o  o  o  o  o  o  o  o  o  o\n",
      "\n"
     ]
    }
   ],
   "source": [
    "env = WindyGridworldEnv()\n",
    "\n",
    "print(env.reset())\n",
    "env.render()\n",
    "\n",
    "env.step(RIGHT)\n",
    "env.step(RIGHT)\n",
    "env.render()\n",
    "\n",
    "env.step(RIGHT)\n",
    "env.render()\n",
    "\n",
    "env.step(RIGHT)\n",
    "env.render()"
   ]
  },
  {
   "cell_type": "code",
   "execution_count": 18,
   "metadata": {
    "collapsed": false
   },
   "outputs": [
    {
     "name": "stdout",
     "output_type": "stream",
     "text": [
      "(6, -1.0, False, {'prob': 1.0})\n"
     ]
    }
   ],
   "source": [
    "# (observation, reward, done, info)\n",
    "print env.step(RIGHT)"
   ]
  },
  {
   "cell_type": "markdown",
   "metadata": {},
   "source": [
    "-----"
   ]
  },
  {
   "cell_type": "markdown",
   "metadata": {},
   "source": [
    "Implementation of SARSA"
   ]
  },
  {
   "cell_type": "code",
   "execution_count": 71,
   "metadata": {
    "collapsed": false
   },
   "outputs": [],
   "source": [
    "def Q_to_eps_greedy_policy(Q, eps=0.1):\n",
    "    num_actions = Q.shape[1]\n",
    "    pi = np.zeros(Q.shape[0],)\n",
    "    for i in range(0, Q.shape[0]):\n",
    "        if np.random.uniform(0,1) < eps:\n",
    "            # choose a random action\n",
    "            pi[i] = np.random.randint(0, num_actions)\n",
    "        else:\n",
    "            # take the argmax of Q[s,.]\n",
    "            pi[i] = np.argmax(Q[i])\n",
    "    return pi\n",
    "        "
   ]
  },
  {
   "cell_type": "code",
   "execution_count": 91,
   "metadata": {
    "collapsed": false
   },
   "outputs": [
    {
     "name": "stderr",
     "output_type": "stream",
     "text": [
      "/Users/cjb60/anaconda2/lib/python2.7/site-packages/ipykernel/__main__.py:26: DeprecationWarning: using a non-integer number instead of an integer will result in an error in the future\n"
     ]
    }
   ],
   "source": [
    "env = WindyGridworldEnv()\n",
    "Q = np.zeros((env.nS, env.nA))\n",
    "num_iters = 200\n",
    "alpha = 0.5\n",
    "gamma = 1.0\n",
    "eps_lengths = []\n",
    "# repeat (for each episode)\n",
    "for num_iter in range(num_iters):\n",
    "    eps_length = 0\n",
    "    env.reset()\n",
    "    # initialise S\n",
    "    S = env.s\n",
    "    # choose A from S using policy derived from Q (e.g. eps-greedy)\n",
    "    pi = Q_to_eps_greedy_policy(Q)\n",
    "    A = pi[S]\n",
    "    # repeat, for each step of episode\n",
    "    while True:\n",
    "        # take action A, observe R, S'\n",
    "        _, R, is_done, _ = env.step(A)\n",
    "        if is_done:\n",
    "            break\n",
    "        S_prime = env.s\n",
    "        # choose A' from S' using policy derived from Q (e.g. eps-greedy)\n",
    "        pi = Q_to_eps_greedy_policy(Q)\n",
    "        A_prime = pi[S_prime]\n",
    "        Q[S,A] = Q[S,A] + alpha*(R + (gamma*Q[S_prime,A_prime]) - Q[S,A])\n",
    "        S = S_prime\n",
    "        A = A_prime\n",
    "        eps_length += 1\n",
    "    #print \"eps length:\", eps_length\n",
    "    eps_lengths.append(eps_length)"
   ]
  },
  {
   "cell_type": "code",
   "execution_count": 92,
   "metadata": {
    "collapsed": false
   },
   "outputs": [
    {
     "data": {
      "text/plain": [
       "[<matplotlib.lines.Line2D at 0x10736f650>]"
      ]
     },
     "execution_count": 92,
     "metadata": {},
     "output_type": "execute_result"
    },
    {
     "data": {
      "image/png": "[encoded data removed]",
      "text/plain": [
       "<matplotlib.figure.Figure at 0x1074a3f50>"
      ]
     },
     "metadata": {},
     "output_type": "display_data"
    }
   ],
   "source": [
    "plt.plot(eps_lengths)"
   ]
  },
  {
   "cell_type": "markdown",
   "metadata": {},
   "source": [
    "----"
   ]
  },
  {
   "cell_type": "markdown",
   "metadata": {},
   "source": [
    "Implementation of Q-Learning"
   ]
  },
  {
   "cell_type": "markdown",
   "metadata": {},
   "source": [
    "http://stats.stackexchange.com/questions/184657/difference-between-off-policy-and-on-policy-learning"
   ]
  },
  {
   "cell_type": "markdown",
   "metadata": {},
   "source": [
    "https://studywolf.wordpress.com/2013/07/01/reinforcement-learning-sarsa-vs-q-learning/"
   ]
  },
  {
   "cell_type": "code",
   "execution_count": 93,
   "metadata": {
    "collapsed": false
   },
   "outputs": [
    {
     "name": "stderr",
     "output_type": "stream",
     "text": [
      "/Users/cjb60/anaconda2/lib/python2.7/site-packages/ipykernel/__main__.py:28: DeprecationWarning: using a non-integer number instead of an integer will result in an error in the future\n"
     ]
    }
   ],
   "source": [
    "env = WindyGridworldEnv()\n",
    "Q = np.zeros((env.nS, env.nA))\n",
    "num_iters = 200\n",
    "alpha = 0.5\n",
    "gamma = 1.0\n",
    "eps_lengths2 = []\n",
    "# repeat (for each episode)\n",
    "for num_iter in range(num_iters):\n",
    "    eps_length = 0\n",
    "    env.reset()\n",
    "    # initialise S\n",
    "    S = env.s\n",
    "    # repeat, for each step of episode\n",
    "    while True:\n",
    "        # choose A from S using policy derived from Q (e.g. eps-greedy)\n",
    "        pi = Q_to_eps_greedy_policy(Q)\n",
    "        A = pi[S]\n",
    "        # take action A, observe R, S'\n",
    "        _, R, is_done, _ = env.step(A)\n",
    "        if is_done:\n",
    "            break\n",
    "        S_prime = env.s\n",
    "        # we want to find argmax_a Q[S_prime, a]\n",
    "        Q_as = []\n",
    "        for a in range(env.nA):\n",
    "            Q_as.append(Q[S_prime,a])\n",
    "        A_max = np.argmax(Q_as)\n",
    "        Q[S,A] = Q[S,A] + alpha*(R + (gamma*Q[S_prime,A_max]) - Q[S,A])\n",
    "        S = S_prime\n",
    "        eps_length += 1\n",
    "    #print \"eps length:\", eps_length\n",
    "    eps_lengths2.append(eps_length)"
   ]
  },
  {
   "cell_type": "code",
   "execution_count": 94,
   "metadata": {
    "collapsed": false
   },
   "outputs": [
    {
     "data": {
      "text/plain": [
       "[<matplotlib.lines.Line2D at 0x1072e6710>]"
      ]
     },
     "execution_count": 94,
     "metadata": {},
     "output_type": "execute_result"
    },
    {
     "data": {
      "image/png": "[encoded data removed]",
      "text/plain": [
       "<matplotlib.figure.Figure at 0x10734d950>"
      ]
     },
     "metadata": {},
     "output_type": "display_data"
    }
   ],
   "source": [
    "plt.plot(eps_lengths2)"
   ]
  },
  {
   "cell_type": "code",
   "execution_count": 97,
   "metadata": {
    "collapsed": false
   },
   "outputs": [
    {
     "data": {
      "text/plain": [
       "[<matplotlib.lines.Line2D at 0x1080bd590>,\n",
       " <matplotlib.lines.Line2D at 0x1080bd7d0>]"
      ]
     },
     "execution_count": 97,
     "metadata": {},
     "output_type": "execute_result"
    },
    {
     "data": {
      "image/png": "[encoded data removed]",
      "text/plain": [
       "<matplotlib.figure.Figure at 0x107fd2f10>"
      ]
     },
     "metadata": {},
     "output_type": "display_data"
    }
   ],
   "source": [
    "plt.plot(eps_lengths, 'b', eps_lengths2, 'r')"
   ]
  },
  {
   "cell_type": "code",
   "execution_count": 101,
   "metadata": {
    "collapsed": false
   },
   "outputs": [
    {
     "data": {
      "text/plain": [
       "(40.299999999999997, 35.479999999999997)"
      ]
     },
     "execution_count": 101,
     "metadata": {},
     "output_type": "execute_result"
    }
   ],
   "source": [
    "np.mean(eps_lengths), np.mean(eps_lengths2)"
   ]
  },
  {
   "cell_type": "code",
   "execution_count": null,
   "metadata": {
    "collapsed": true
   },
   "outputs": [],
   "source": []
  }
 ],
 "metadata": {
  "kernelspec": {
   "display_name": "Python 2",
   "language": "python",
   "name": "python2"
  },
  "language_info": {
   "codemirror_mode": {
    "name": "ipython",
    "version": 2
   },
   "file_extension": ".py",
   "mimetype": "text/x-python",
   "name": "python",
   "nbconvert_exporter": "python",
   "pygments_lexer": "ipython2",
   "version": "2.7.13"
  }
 },
 "nbformat": 4,
 "nbformat_minor": 2
}
